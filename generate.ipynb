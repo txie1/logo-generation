{
  "cells": [
    {
      "cell_type": "markdown",
      "metadata": {
        "colab_type": "text",
        "id": "view-in-github"
      },
      "source": [
        "<a href=\"https://colab.research.google.com/github/txie1/logo-generation/blob/main/train_model.ipynb\" target=\"_parent\"><img src=\"https://colab.research.google.com/assets/colab-badge.svg\" alt=\"Open In Colab\"/></a>"
      ]
    },
    {
      "cell_type": "markdown",
      "metadata": {
        "id": "7VW1yx4iOq5v"
      },
      "source": [
        "## Data Loading"
      ]
    },
    {
      "cell_type": "code",
      "execution_count": null,
      "metadata": {
        "colab": {
          "base_uri": "https://localhost:8080/"
        },
        "id": "WfFntx3YowUA",
        "outputId": "752e38ee-25ee-44e9-a3fb-6af343c9482c"
      },
      "outputs": [
        {
          "name": "stdout",
          "output_type": "stream",
          "text": [
            "Mounted at /content/drive\n"
          ]
        }
      ],
      "source": [
        "# Mounting Google Drive to access files stored there.\n",
        "from google.colab import drive\n",
        "drive.mount('/content/drive', force_remount=True)"
      ]
    },
    {
      "cell_type": "code",
      "execution_count": null,
      "metadata": {
        "colab": {
          "base_uri": "https://localhost:8080/"
        },
        "id": "JUlpt9-6zWBD",
        "outputId": "3b5f1aff-9949-4e42-ecb6-47e88b7055ed"
      },
      "outputs": [
        {
          "name": "stdout",
          "output_type": "stream",
          "text": [
            "/content/drive/Shareddrives/pic16b/colab_env/lib/python3.10/site-packages\n"
          ]
        }
      ],
      "source": [
        "# Changing directory to the specific site-packages folder in Google Drive.\n",
        "# Need to adjust based on different environment\n",
        "%cd drive/Shareddrives/pic16b/colab_env/lib/python3.10/site-packages"
      ]
    },
    {
      "cell_type": "code",
      "execution_count": null,
      "metadata": {
        "id": "f9U7tsbd7sNN"
      },
      "outputs": [],
      "source": [
        "from IPython.display import display, clear_output\n",
        "from dataset import CustomDataset\n",
        "from datasets import load_dataset, Dataset\n",
        "from diffusers.optimization import get_scheduler\n",
        "from google.colab import files\n",
        "from model import UNet\n",
        "from run_model_ui import get_closest_words, modelui, get_processed_words, generate_image\n",
        "from schedul import ddim\n",
        "from torch.utils.data import DataLoader, Dataset\n",
        "from torchinfo import summary\n",
        "from torchvision.transforms import (\n",
        "    CenterCrop,\n",
        "    Compose,\n",
        "    InterpolationMode,\n",
        "    RandomHorizontalFlip,\n",
        "    Resize,\n",
        "    ToTensor,\n",
        ")\n",
        "from torchvision.utils import save_image, make_grid\n",
        "from tqdm.auto import tqdm\n",
        "from utils import normalize_to_neg_one_to_one, plot_losses\n",
        "from helper import set_seed, transforms, save_images\n",
        "import gensim.downloader\n",
        "import ipywidgets as widgets\n",
        "import torch"
      ]
    },
    {
      "cell_type": "markdown",
      "metadata": {
        "id": "icnwwZFfQYCX"
      },
      "source": [
        "## Initialize Model"
      ]
    },
    {
      "cell_type": "code",
      "execution_count": null,
      "metadata": {
        "id": "UztT5DZjQZ94"
      },
      "outputs": [],
      "source": [
        "# Creating an instance of the UNet model with specific configurations\n",
        "# Initializing a noise scheduler for the diffusion process in model training\n",
        "\n",
        "n_timesteps = 1000\n",
        "n_inference_timesteps = 50\n",
        "resolution = 32\n",
        "\n",
        "model = UNet(3, image_size=resolution, hidden_dims=[128, 256, 512, 1024], n_cfeat=5, use_linear_attn=False)\n",
        "noise_scheduler = ddim.DDIMScheduler(num_train_timesteps=n_timesteps, beta_schedule=\"cosine\")"
      ]
    },
    {
      "cell_type": "markdown",
      "metadata": {
        "id": "P4_JS-EOQg0e"
      },
      "source": [
        "## Load Pretrained Checkpoint"
      ]
    },
    {
      "cell_type": "code",
      "execution_count": null,
      "metadata": {},
      "outputs": [],
      "source": [
        "device = torch.device(\"cuda\")\n",
        "model = model.to(device)"
      ]
    },
    {
      "cell_type": "code",
      "execution_count": null,
      "metadata": {},
      "outputs": [],
      "source": [
        "# Run the trained checkpoints for result\n",
        "# -------------------------------- #\n",
        "checkpoint = torch.load('ckpt_1500_25.pth', map_location=torch.device('cpu'))\n",
        "model.load_state_dict(checkpoint['model_state'])"
      ]
    },
    {
      "cell_type": "markdown",
      "metadata": {
        "id": "-yQaRNUZRUBM"
      },
      "source": [
        "## User Interface: User input to generate logo, with word embedding layer"
      ]
    },
    {
      "cell_type": "markdown",
      "metadata": {
        "id": "7pC7UCe-RYh0"
      },
      "source": [
        "### Evaluation and Results"
      ]
    },
    {
      "cell_type": "code",
      "execution_count": null,
      "metadata": {
        "colab": {
          "base_uri": "https://localhost:8080/",
          "height": 162,
          "referenced_widgets": [
            "8a4af29e264146d598e4bc9b7d0ae7a7",
            "a79066591e064d319f0b867b2d51db8a",
            "9170e8592e0842ef85af0cc1b0ba923e",
            "51ea9129799a4d6188436184a0adba90",
            "48caba39557d43e4a9cc6b62e752f221",
            "c2bd30e1b5bc43328fb34a888d6dd1af",
            "5a2b671d853046279338b3520614aa8a",
            "143e2b9d72454add8da8cc641aea9193",
            "34254eb02c4a4b919c1366a926dbdb74",
            "3ed6a4d5554b4754aa01f501f580ee0e",
            "5f315bf11e9c457e886a1ec06a915095",
            "9a891060f39b4ee1b1567f7d5830da7d",
            "16d29a7245e34ba8b9f21324717fbdc5",
            "356db8a909cd4ee7ad99392b23f0d797"
          ]
        },
        "id": "eXjGPdbfReeD",
        "outputId": "cec88ab5-269e-4ea7-85a2-1a4a6e336019"
      },
      "outputs": [
        {
          "data": {
            "application/vnd.jupyter.widget-view+json": {
              "model_id": "8a4af29e264146d598e4bc9b7d0ae7a7",
              "version_major": 2,
              "version_minor": 0
            },
            "text/plain": [
              "HTML(value='<h3>Enter the words you want to create the logo with:</h3>')"
            ]
          },
          "metadata": {},
          "output_type": "display_data"
        },
        {
          "data": {
            "application/vnd.jupyter.widget-view+json": {
              "model_id": "51ea9129799a4d6188436184a0adba90",
              "version_major": 2,
              "version_minor": 0
            },
            "text/plain": [
              "Text(value='', placeholder='Enter a word here')"
            ]
          },
          "metadata": {},
          "output_type": "display_data"
        },
        {
          "data": {
            "application/vnd.jupyter.widget-view+json": {
              "model_id": "5a2b671d853046279338b3520614aa8a",
              "version_major": 2,
              "version_minor": 0
            },
            "text/plain": [
              "Button(description='Confirm', style=ButtonStyle())"
            ]
          },
          "metadata": {},
          "output_type": "display_data"
        },
        {
          "data": {
            "application/vnd.jupyter.widget-view+json": {
              "model_id": "3ed6a4d5554b4754aa01f501f580ee0e",
              "version_major": 2,
              "version_minor": 0
            },
            "text/plain": [
              "Button(description='Finish', style=ButtonStyle())"
            ]
          },
          "metadata": {},
          "output_type": "display_data"
        },
        {
          "data": {
            "application/vnd.jupyter.widget-view+json": {
              "model_id": "16d29a7245e34ba8b9f21324717fbdc5",
              "version_major": 2,
              "version_minor": 0
            },
            "text/plain": [
              "Output()"
            ]
          },
          "metadata": {},
          "output_type": "display_data"
        }
      ],
      "source": [
        "# Download the \"glove-twitter-25\" embeddings\n",
        "glove_vectors = gensim.downloader.load('glove-twitter-25')\n",
        "\n",
        "# Utilize model\n",
        "model_input = modelui(glove_vectors)"
      ]
    },
    {
      "cell_type": "code",
      "execution_count": null,
      "metadata": {
        "colab": {
          "base_uri": "https://localhost:8080/",
          "height": 1000
        },
        "id": "4Wc2Ye-fRqQb",
        "outputId": "bda95ffb-ec2d-4994-a410-5b5b18b2c95a"
      },
      "outputs": [
        {
          "name": "stderr",
          "output_type": "stream",
          "text": [
            "100%|██████████| 50/50 [00:01<00:00, 44.91it/s]\n"
          ]
        },
        {
          "data": {
            "image/png": "[encoded data removed]",
            "text/plain": [
              "<Figure size 100x100 with 1 Axes>"
            ]
          },
          "metadata": {},
          "output_type": "display_data"
        },
        {
          "data": {
            "text/plain": [
              "array([[[[0.9223213 , 0.8937248 , 0.9075802 ],\n",
              "         [0.9240651 , 0.89446473, 0.9089655 ],\n",
              "         [0.92394483, 0.8975101 , 0.9114884 ],\n",
              "         ...,\n",
              "         [0.9262899 , 0.8959961 , 0.9117397 ],\n",
              "         [0.9246429 , 0.89174384, 0.9077075 ],\n",
              "         [0.92125547, 0.89032453, 0.90994895]],\n",
              "\n",
              "        [[0.9230561 , 0.8911942 , 0.9062618 ],\n",
              "         [0.9257999 , 0.8942295 , 0.90767205],\n",
              "         [0.9256054 , 0.8965864 , 0.9097017 ],\n",
              "         ...,\n",
              "         [0.9271764 , 0.8938552 , 0.91014826],\n",
              "         [0.92566276, 0.89470327, 0.9114411 ],\n",
              "         [0.925851  , 0.8904486 , 0.9054981 ]],\n",
              "\n",
              "        [[0.92178553, 0.89269453, 0.90693164],\n",
              "         [0.9252348 , 0.89460826, 0.9093871 ],\n",
              "         [0.9235718 , 0.891774  , 0.9081042 ],\n",
              "         ...,\n",
              "         [0.9257761 , 0.8957238 , 0.9112571 ],\n",
              "         [0.92422783, 0.89447296, 0.9095255 ],\n",
              "         [0.9288416 , 0.8951691 , 0.9115884 ]],\n",
              "\n",
              "        ...,\n",
              "\n",
              "        [[0.9242002 , 0.8931813 , 0.90805304],\n",
              "         [0.92833394, 0.8957744 , 0.9131986 ],\n",
              "         [0.9298053 , 0.8960755 , 0.9129271 ],\n",
              "         ...,\n",
              "         [0.92348695, 0.8955477 , 0.91159105],\n",
              "         [0.92269474, 0.8936839 , 0.9088709 ],\n",
              "         [0.9261263 , 0.89360106, 0.9100239 ]],\n",
              "\n",
              "        [[0.92477477, 0.8979831 , 0.9117304 ],\n",
              "         [0.92876124, 0.896621  , 0.91295606],\n",
              "         [0.9294789 , 0.89446694, 0.9106897 ],\n",
              "         ...,\n",
              "         [0.92670083, 0.8948982 , 0.91122544],\n",
              "         [0.9266046 , 0.8958497 , 0.9117453 ],\n",
              "         [0.9279026 , 0.89753383, 0.9133562 ]],\n",
              "\n",
              "        [[0.926707  , 0.89272195, 0.9124725 ],\n",
              "         [0.92639697, 0.89440984, 0.9091378 ],\n",
              "         [0.9246952 , 0.89359224, 0.9090472 ],\n",
              "         ...,\n",
              "         [0.92773795, 0.89819396, 0.91577804],\n",
              "         [0.92695427, 0.895702  , 0.91750467],\n",
              "         [0.92549694, 0.89378595, 0.9080526 ]]]], dtype=float32)"
            ]
          },
          "execution_count": 14,
          "metadata": {},
          "output_type": "execute_result"
        }
      ],
      "source": [
        "# Processing words and generating an image using the model\n",
        "# The function generate_image takes processed words and model parameters as input\n",
        "processed_words = get_processed_words()\n",
        "generate_image(processed_words,device,noise_scheduler,model,n_inference_timesteps)"
      ]
    }
  ],
  "metadata": {
    "accelerator": "GPU",
    "colab": {
      "gpuType": "T4",
      "include_colab_link": true,
      "provenance": []
    },
    "kernelspec": {
      "display_name": "Python 3",
      "name": "python3"
    },
    "language_info": {
      "name": "python"
    },
    "widgets": {
      "application/vnd.jupyter.widget-state+json": {
        "143e2b9d72454add8da8cc641aea9193": {
          "model_module": "@jupyter-widgets/base",
          "model_module_version": "1.2.0",
          "model_name": "LayoutModel",
          "state": {
            "_model_module": "@jupyter-widgets/base",
            "_model_module_version": "1.2.0",
            "_model_name": "LayoutModel",
            "_view_count": null,
            "_view_module": "@jupyter-widgets/base",
            "_view_module_version": "1.2.0",
            "_view_name": "LayoutView",
            "align_content": null,
            "align_items": null,
            "align_self": null,
            "border": null,
            "bottom": null,
            "display": null,
            "flex": null,
            "flex_flow": null,
            "grid_area": null,
            "grid_auto_columns": null,
            "grid_auto_flow": null,
            "grid_auto_rows": null,
            "grid_column": null,
            "grid_gap": null,
            "grid_row": null,
            "grid_template_areas": null,
            "grid_template_columns": null,
            "grid_template_rows": null,
            "height": null,
            "justify_content": null,
            "justify_items": null,
            "left": null,
            "margin": null,
            "max_height": null,
            "max_width": null,
            "min_height": null,
            "min_width": null,
            "object_fit": null,
            "object_position": null,
            "order": null,
            "overflow": null,
            "overflow_x": null,
            "overflow_y": null,
            "padding": null,
            "right": null,
            "top": null,
            "visibility": null,
            "width": null
          }
        },
        "16d29a7245e34ba8b9f21324717fbdc5": {
          "model_module": "@jupyter-widgets/output",
          "model_module_version": "1.0.0",
          "model_name": "OutputModel",
          "state": {
            "_dom_classes": [],
            "_model_module": "@jupyter-widgets/output",
            "_model_module_version": "1.0.0",
            "_model_name": "OutputModel",
            "_view_count": null,
            "_view_module": "@jupyter-widgets/output",
            "_view_module_version": "1.0.0",
            "_view_name": "OutputView",
            "layout": "IPY_MODEL_356db8a909cd4ee7ad99392b23f0d797",
            "msg_id": "",
            "outputs": []
          }
        },
        "34254eb02c4a4b919c1366a926dbdb74": {
          "model_module": "@jupyter-widgets/controls",
          "model_module_version": "1.5.0",
          "model_name": "ButtonStyleModel",
          "state": {
            "_model_module": "@jupyter-widgets/controls",
            "_model_module_version": "1.5.0",
            "_model_name": "ButtonStyleModel",
            "_view_count": null,
            "_view_module": "@jupyter-widgets/base",
            "_view_module_version": "1.2.0",
            "_view_name": "StyleView",
            "button_color": null,
            "font_weight": ""
          }
        },
        "356db8a909cd4ee7ad99392b23f0d797": {
          "model_module": "@jupyter-widgets/base",
          "model_module_version": "1.2.0",
          "model_name": "LayoutModel",
          "state": {
            "_model_module": "@jupyter-widgets/base",
            "_model_module_version": "1.2.0",
            "_model_name": "LayoutModel",
            "_view_count": null,
            "_view_module": "@jupyter-widgets/base",
            "_view_module_version": "1.2.0",
            "_view_name": "LayoutView",
            "align_content": null,
            "align_items": null,
            "align_self": null,
            "border": null,
            "bottom": null,
            "display": null,
            "flex": null,
            "flex_flow": null,
            "grid_area": null,
            "grid_auto_columns": null,
            "grid_auto_flow": null,
            "grid_auto_rows": null,
            "grid_column": null,
            "grid_gap": null,
            "grid_row": null,
            "grid_template_areas": null,
            "grid_template_columns": null,
            "grid_template_rows": null,
            "height": null,
            "justify_content": null,
            "justify_items": null,
            "left": null,
            "margin": null,
            "max_height": null,
            "max_width": null,
            "min_height": null,
            "min_width": null,
            "object_fit": null,
            "object_position": null,
            "order": null,
            "overflow": null,
            "overflow_x": null,
            "overflow_y": null,
            "padding": null,
            "right": null,
            "top": null,
            "visibility": null,
            "width": null
          }
        },
        "3ed6a4d5554b4754aa01f501f580ee0e": {
          "model_module": "@jupyter-widgets/controls",
          "model_module_version": "1.5.0",
          "model_name": "ButtonModel",
          "state": {
            "_dom_classes": [],
            "_model_module": "@jupyter-widgets/controls",
            "_model_module_version": "1.5.0",
            "_model_name": "ButtonModel",
            "_view_count": null,
            "_view_module": "@jupyter-widgets/controls",
            "_view_module_version": "1.5.0",
            "_view_name": "ButtonView",
            "button_style": "",
            "description": "Finish",
            "disabled": false,
            "icon": "",
            "layout": "IPY_MODEL_5f315bf11e9c457e886a1ec06a915095",
            "style": "IPY_MODEL_9a891060f39b4ee1b1567f7d5830da7d",
            "tooltip": ""
          }
        },
        "48caba39557d43e4a9cc6b62e752f221": {
          "model_module": "@jupyter-widgets/base",
          "model_module_version": "1.2.0",
          "model_name": "LayoutModel",
          "state": {
            "_model_module": "@jupyter-widgets/base",
            "_model_module_version": "1.2.0",
            "_model_name": "LayoutModel",
            "_view_count": null,
            "_view_module": "@jupyter-widgets/base",
            "_view_module_version": "1.2.0",
            "_view_name": "LayoutView",
            "align_content": null,
            "align_items": null,
            "align_self": null,
            "border": null,
            "bottom": null,
            "display": null,
            "flex": null,
            "flex_flow": null,
            "grid_area": null,
            "grid_auto_columns": null,
            "grid_auto_flow": null,
            "grid_auto_rows": null,
            "grid_column": null,
            "grid_gap": null,
            "grid_row": null,
            "grid_template_areas": null,
            "grid_template_columns": null,
            "grid_template_rows": null,
            "height": null,
            "justify_content": null,
            "justify_items": null,
            "left": null,
            "margin": null,
            "max_height": null,
            "max_width": null,
            "min_height": null,
            "min_width": null,
            "object_fit": null,
            "object_position": null,
            "order": null,
            "overflow": null,
            "overflow_x": null,
            "overflow_y": null,
            "padding": null,
            "right": null,
            "top": null,
            "visibility": null,
            "width": null
          }
        },
        "51ea9129799a4d6188436184a0adba90": {
          "model_module": "@jupyter-widgets/controls",
          "model_module_version": "1.5.0",
          "model_name": "TextModel",
          "state": {
            "_dom_classes": [],
            "_model_module": "@jupyter-widgets/controls",
            "_model_module_version": "1.5.0",
            "_model_name": "TextModel",
            "_view_count": null,
            "_view_module": "@jupyter-widgets/controls",
            "_view_module_version": "1.5.0",
            "_view_name": "TextView",
            "continuous_update": true,
            "description": "",
            "description_tooltip": null,
            "disabled": false,
            "layout": "IPY_MODEL_48caba39557d43e4a9cc6b62e752f221",
            "placeholder": "Enter a word here",
            "style": "IPY_MODEL_c2bd30e1b5bc43328fb34a888d6dd1af",
            "value": ""
          }
        },
        "5a2b671d853046279338b3520614aa8a": {
          "model_module": "@jupyter-widgets/controls",
          "model_module_version": "1.5.0",
          "model_name": "ButtonModel",
          "state": {
            "_dom_classes": [],
            "_model_module": "@jupyter-widgets/controls",
            "_model_module_version": "1.5.0",
            "_model_name": "ButtonModel",
            "_view_count": null,
            "_view_module": "@jupyter-widgets/controls",
            "_view_module_version": "1.5.0",
            "_view_name": "ButtonView",
            "button_style": "",
            "description": "Confirm",
            "disabled": false,
            "icon": "",
            "layout": "IPY_MODEL_143e2b9d72454add8da8cc641aea9193",
            "style": "IPY_MODEL_34254eb02c4a4b919c1366a926dbdb74",
            "tooltip": ""
          }
        },
        "5f315bf11e9c457e886a1ec06a915095": {
          "model_module": "@jupyter-widgets/base",
          "model_module_version": "1.2.0",
          "model_name": "LayoutModel",
          "state": {
            "_model_module": "@jupyter-widgets/base",
            "_model_module_version": "1.2.0",
            "_model_name": "LayoutModel",
            "_view_count": null,
            "_view_module": "@jupyter-widgets/base",
            "_view_module_version": "1.2.0",
            "_view_name": "LayoutView",
            "align_content": null,
            "align_items": null,
            "align_self": null,
            "border": null,
            "bottom": null,
            "display": null,
            "flex": null,
            "flex_flow": null,
            "grid_area": null,
            "grid_auto_columns": null,
            "grid_auto_flow": null,
            "grid_auto_rows": null,
            "grid_column": null,
            "grid_gap": null,
            "grid_row": null,
            "grid_template_areas": null,
            "grid_template_columns": null,
            "grid_template_rows": null,
            "height": null,
            "justify_content": null,
            "justify_items": null,
            "left": null,
            "margin": null,
            "max_height": null,
            "max_width": null,
            "min_height": null,
            "min_width": null,
            "object_fit": null,
            "object_position": null,
            "order": null,
            "overflow": null,
            "overflow_x": null,
            "overflow_y": null,
            "padding": null,
            "right": null,
            "top": null,
            "visibility": null,
            "width": null
          }
        },
        "8a4af29e264146d598e4bc9b7d0ae7a7": {
          "model_module": "@jupyter-widgets/controls",
          "model_module_version": "1.5.0",
          "model_name": "HTMLModel",
          "state": {
            "_dom_classes": [],
            "_model_module": "@jupyter-widgets/controls",
            "_model_module_version": "1.5.0",
            "_model_name": "HTMLModel",
            "_view_count": null,
            "_view_module": "@jupyter-widgets/controls",
            "_view_module_version": "1.5.0",
            "_view_name": "HTMLView",
            "description": "",
            "description_tooltip": null,
            "layout": "IPY_MODEL_a79066591e064d319f0b867b2d51db8a",
            "placeholder": "​",
            "style": "IPY_MODEL_9170e8592e0842ef85af0cc1b0ba923e",
            "value": "<h3>Enter the words you want to create the logo with:</h3>"
          }
        },
        "9170e8592e0842ef85af0cc1b0ba923e": {
          "model_module": "@jupyter-widgets/controls",
          "model_module_version": "1.5.0",
          "model_name": "DescriptionStyleModel",
          "state": {
            "_model_module": "@jupyter-widgets/controls",
            "_model_module_version": "1.5.0",
            "_model_name": "DescriptionStyleModel",
            "_view_count": null,
            "_view_module": "@jupyter-widgets/base",
            "_view_module_version": "1.2.0",
            "_view_name": "StyleView",
            "description_width": ""
          }
        },
        "9a891060f39b4ee1b1567f7d5830da7d": {
          "model_module": "@jupyter-widgets/controls",
          "model_module_version": "1.5.0",
          "model_name": "ButtonStyleModel",
          "state": {
            "_model_module": "@jupyter-widgets/controls",
            "_model_module_version": "1.5.0",
            "_model_name": "ButtonStyleModel",
            "_view_count": null,
            "_view_module": "@jupyter-widgets/base",
            "_view_module_version": "1.2.0",
            "_view_name": "StyleView",
            "button_color": null,
            "font_weight": ""
          }
        },
        "a79066591e064d319f0b867b2d51db8a": {
          "model_module": "@jupyter-widgets/base",
          "model_module_version": "1.2.0",
          "model_name": "LayoutModel",
          "state": {
            "_model_module": "@jupyter-widgets/base",
            "_model_module_version": "1.2.0",
            "_model_name": "LayoutModel",
            "_view_count": null,
            "_view_module": "@jupyter-widgets/base",
            "_view_module_version": "1.2.0",
            "_view_name": "LayoutView",
            "align_content": null,
            "align_items": null,
            "align_self": null,
            "border": null,
            "bottom": null,
            "display": null,
            "flex": null,
            "flex_flow": null,
            "grid_area": null,
            "grid_auto_columns": null,
            "grid_auto_flow": null,
            "grid_auto_rows": null,
            "grid_column": null,
            "grid_gap": null,
            "grid_row": null,
            "grid_template_areas": null,
            "grid_template_columns": null,
            "grid_template_rows": null,
            "height": null,
            "justify_content": null,
            "justify_items": null,
            "left": null,
            "margin": null,
            "max_height": null,
            "max_width": null,
            "min_height": null,
            "min_width": null,
            "object_fit": null,
            "object_position": null,
            "order": null,
            "overflow": null,
            "overflow_x": null,
            "overflow_y": null,
            "padding": null,
            "right": null,
            "top": null,
            "visibility": null,
            "width": null
          }
        },
        "c2bd30e1b5bc43328fb34a888d6dd1af": {
          "model_module": "@jupyter-widgets/controls",
          "model_module_version": "1.5.0",
          "model_name": "DescriptionStyleModel",
          "state": {
            "_model_module": "@jupyter-widgets/controls",
            "_model_module_version": "1.5.0",
            "_model_name": "DescriptionStyleModel",
            "_view_count": null,
            "_view_module": "@jupyter-widgets/base",
            "_view_module_version": "1.2.0",
            "_view_name": "StyleView",
            "description_width": ""
          }
        }
      }
    }
  },
  "nbformat": 4,
  "nbformat_minor": 0
}
